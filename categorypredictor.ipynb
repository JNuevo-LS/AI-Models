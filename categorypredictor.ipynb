{
 "cells": [
  {
   "cell_type": "code",
   "execution_count": null,
   "metadata": {},
   "outputs": [],
   "source": [
    "import pandas as pd\n",
    "from nltk.tokenize import word_tokenize\n",
    "RawData = pd.read_csv(\"df_file.csv\")\n",
    "pd.set_option('max_colwidth', 150)\n",
    "RawData.head()\n"
   ]
  },
  {
   "cell_type": "code",
   "execution_count": null,
   "metadata": {},
   "outputs": [],
   "source": [
    "import re\n",
    "from nltk import WordNetLemmatizer\n",
    "from nltk.corpus import stopwords\n",
    "\n",
    "STOP_WORDS = stopwords.words('english')\n",
    "wnLem = WordNetLemmatizer()\n",
    "\n",
    "def cleanText(token):\n",
    "    return re.sub(r'[^A-Za-z0-9]', \"\", token.lower())\n",
    "\n",
    "def lemText(word):\n",
    "    return wnLem.lemmatize(word)\n",
    "\n",
    "def removeStop(word):\n",
    "    return word not in STOP_WORDS\n",
    "\n",
    "#Could be optimized into one very concise line for speed, however opted for readability.\n",
    "#cleaned_tokens = [porterStem.stem(re.sub(r'[^A-Za-z0-9]', \"\", token.lower())) for token in word_tokenize(text) if token.strip() and token.lower() not in STOP_WORDS]\n",
    "def cleanAndTokenize(text):\n",
    "    tokens = word_tokenize(text)\n",
    "    cleaned_tokens = [lemText(cleanText(token)) for token in tokens if token.strip() and removeStop(token)]\n",
    "    return cleaned_tokens\n",
    "\n",
    "# Tokenized = RawData['Text'].apply(cleanAndTokenize)\n",
    "# Tokenized.head()"
   ]
  },
  {
   "cell_type": "code",
   "execution_count": null,
   "metadata": {},
   "outputs": [],
   "source": [
    "import string\n",
    "\n",
    "def count_punct(text):\n",
    "    count = sum([1 for char in text if char in string.punctuation])\n",
    "    return (count/(len(text) - text.count(\" \")) * 100)\n",
    "\n",
    "RawData['punct%'] = RawData['Text'].apply(lambda text: count_punct(text))\n",
    "\n",
    "RawData.head()\n"
   ]
  },
  {
   "cell_type": "code",
   "execution_count": null,
   "metadata": {},
   "outputs": [],
   "source": [
    "from matplotlib import pyplot\n",
    "import numpy as np \n",
    "\n",
    "%matplotlib inline\n",
    "\n",
    "bins = np.linspace(0, 10, 40)\n",
    "\n",
    "pyplot.hist(RawData[RawData['Label'] == 0]['punct%'], bins, alpha=0.5, density=True, label = 'Politics - 0')\n",
    "pyplot.hist(RawData[RawData['Label'] == 1]['punct%'], bins, alpha=0.5, density=True, label = 'Sports - 1')\n",
    "pyplot.hist(RawData[RawData['Label'] == 2]['punct%'], bins, alpha=0.5, density=True, label = 'Tech - 2')\n",
    "pyplot.hist(RawData[RawData['Label'] == 3]['punct%'], bins, alpha=0.5, density=True, label = 'Entertainment -3')\n",
    "pyplot.hist(RawData[RawData['Label'] == 4]['punct%'], bins, alpha=0.5, density=True, label = 'Business - 4')\n",
    "\n",
    "pyplot.legend(loc='upper right')\n",
    "pyplot.show()\n"
   ]
  },
  {
   "cell_type": "code",
   "execution_count": null,
   "metadata": {},
   "outputs": [],
   "source": [
    "RawData['Text-Len'] = RawData['Text'].apply(lambda text: len(text) - text.count(\" \"))\n",
    "\n",
    "bins2 = np.linspace(200, 8000, 70)\n",
    "\n",
    "pyplot.hist(RawData[RawData['Label'] == 1]['Text-Len'], bins2, alpha=0.5, density=True, label = 'Sports - 1')\n",
    "pyplot.hist(RawData[RawData['Label'] == 2]['Text-Len'], bins2, alpha=0.5, density=True, label = 'Tech - 2')\n",
    "pyplot.hist(RawData[RawData['Label'] == 0]['Text-Len'], bins2, alpha=0.5, density=True, label = 'Politics - 0')\n",
    "pyplot.hist(RawData[RawData['Label'] == 3]['Text-Len'], bins2, alpha=0.5, density=True, label = 'Entertainment -3')\n",
    "pyplot.hist(RawData[RawData['Label'] == 4]['Text-Len'], bins2, alpha=0.5, density=True, label = 'Business - 4')\n",
    "\n",
    "pyplot.legend(loc='upper right')\n",
    "pyplot.show()"
   ]
  },
  {
   "cell_type": "code",
   "execution_count": null,
   "metadata": {},
   "outputs": [],
   "source": [
    "bins3 = np.linspace(200, 8000, 70)\n",
    "\n",
    "pyplot.hist(RawData['Text-Len'], bins3)\n",
    "pyplot.title(\"Text Length Distribution\")\n",
    "pyplot.show()"
   ]
  },
  {
   "cell_type": "code",
   "execution_count": null,
   "metadata": {},
   "outputs": [],
   "source": [
    "bins3 = np.linspace(0, 10, 60)\n",
    "\n",
    "pyplot.hist(RawData['punct%'], bins3)\n",
    "pyplot.title(\"Percentage of Punctuation Distribution\")\n",
    "pyplot.show()"
   ]
  },
  {
   "cell_type": "code",
   "execution_count": null,
   "metadata": {},
   "outputs": [],
   "source": [
    "# for i in range(1, 11):\n",
    "#     pyplot.hist((RawData['Text-Len']) ** (1/i), bins= 60)\n",
    "#     pyplot.title(f'Text-Len Transformation 1/{i}')\n",
    "#     pyplot.show()\n",
    "\n",
    "\n",
    "# for i in range(1,11):\n",
    "#     pyplot.hist(RawData['punct%'] ** (1/i), bins = 60)\n",
    "#     pyplot.title(f'Punct% Transformation 1/{i}')\n",
    "#     pyplot.show()\n",
    "\n",
    "\n",
    "RawData['Transformed Punct'] = RawData['punct%'].apply(lambda x: x ** (1/8))\n",
    "RawData['Transformed Text-Len'] = RawData['Text-Len'].apply(lambda x: x** (1/5))"
   ]
  },
  {
   "cell_type": "code",
   "execution_count": null,
   "metadata": {},
   "outputs": [],
   "source": [
    "from sklearn.model_selection import train_test_split"
   ]
  },
  {
   "cell_type": "code",
   "execution_count": null,
   "metadata": {},
   "outputs": [],
   "source": [
    "X_train, X_test, Y_train, Y_test = train_test_split(RawData[['Text', 'Transformed Text-Len', 'Transformed Punct']], RawData['Label'], test_size=0.2)"
   ]
  },
  {
   "cell_type": "code",
   "execution_count": null,
   "metadata": {},
   "outputs": [],
   "source": [
    "from sklearn.feature_extraction.text import TfidfVectorizer\n",
    "\n",
    "tfidfVect = TfidfVectorizer(analyzer = cleanAndTokenize)\n",
    "\n",
    "X_TFIDF_fit = tfidfVect.fit(X_train['Text'])\n",
    "\n",
    "X_Train_TFIDF = X_TFIDF_fit.transform(X_train['Text'])\n",
    "X_Test_TFIDF = X_TFIDF_fit.transform(X_test['Text'])"
   ]
  },
  {
   "cell_type": "code",
   "execution_count": null,
   "metadata": {},
   "outputs": [],
   "source": [
    "X_train_vect = pd.concat([X_train[['Transformed Text-Len', 'Transformed Punct']].reset_index(drop=True),\n",
    "                          pd.DataFrame(X_Train_TFIDF.toarray())], axis=1)\n",
    "X_test_vect = pd.concat([X_test[['Transformed Text-Len', 'Transformed Punct']].reset_index(drop=True),\n",
    "                          pd.DataFrame(X_Test_TFIDF.toarray())], axis=1)"
   ]
  },
  {
   "cell_type": "code",
   "execution_count": null,
   "metadata": {},
   "outputs": [],
   "source": [
    "from sklearn.ensemble import RandomForestClassifier\n",
    "from sklearn.model_selection import KFold, cross_val_score, GridSearchCV\n",
    "from sklearn.metrics import precision_recall_fscore_support as score\n",
    "import time"
   ]
  },
  {
   "cell_type": "code",
   "execution_count": null,
   "metadata": {},
   "outputs": [],
   "source": [
    "rf = RandomForestClassifier(n_estimators=125, max_depth=50, n_jobs=-1)\n",
    "\n",
    "X_train_vect.columns = X_train_vect.columns.astype(str)\n",
    "X_test_vect.columns = X_test_vect.columns.astype(str)\n",
    "\n",
    "precision_list = []\n",
    "recall_list = []\n",
    "accuracy_list = []\n",
    "\n",
    "start = time.time()\n",
    "rf_model = rf.fit(X_train_vect, Y_train)\n",
    "end = time.time()\n",
    "\n",
    "fit_time = end - start\n",
    "\n",
    "start = time.time()\n",
    "y_pred = rf_model.predict(X_test_vect)\n",
    "end = time.time()\n",
    "\n",
    "pred_time = end - start\n",
    "\n",
    "precision, recall, fscore, train_support = score(Y_test, y_pred, average='micro')\n",
    "\n",
    "precision_list.append(precision)\n",
    "recall_list.append(recall)\n",
    "accuracy_list.append(round((y_pred == Y_test).sum()/(len(Y_test)), 3))\n",
    "\n",
    "print(f'Precision: {round(precision, 3)} / Recall: {round(recall, 3)} / Accuracy: {round((y_pred == Y_test).sum()/(len(Y_test)), 3)}')\n",
    "print(f'Fit time: {fit_time} / Predict time: {pred_time}')"
   ]
  },
  {
   "cell_type": "code",
   "execution_count": null,
   "metadata": {},
   "outputs": [],
   "source": [
    "# rf = RandomForestClassifier()\n",
    "# param = {'n_estimators': [100, 125, 150],\n",
    "#          'max_depth' : [30, 40, 50, 60, None]}\n",
    "\n",
    "# gs = GridSearchCV(rf, param, cv=5, n_jobs=-1)\n",
    "\n",
    "# gs_fit = gs.fit(X_train_vect, Y_train)\n",
    "# pd.DataFrame(gs_fit.cv_results_).sort_values('mean_test_score', ascending=False)[0:5]\n"
   ]
  }
 ],
 "metadata": {
  "kernelspec": {
   "display_name": "LeaguePredictor",
   "language": "python",
   "name": "python3"
  },
  "language_info": {
   "codemirror_mode": {
    "name": "ipython",
    "version": 3
   },
   "file_extension": ".py",
   "mimetype": "text/x-python",
   "name": "python",
   "nbconvert_exporter": "python",
   "pygments_lexer": "ipython3",
   "version": "3.12.1"
  }
 },
 "nbformat": 4,
 "nbformat_minor": 2
}
